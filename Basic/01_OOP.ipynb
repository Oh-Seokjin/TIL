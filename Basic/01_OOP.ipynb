{
 "cells": [
  {
   "cell_type": "markdown",
   "id": "59278555",
   "metadata": {},
   "source": [
    "# Object-Oriented Programming\n",
    "- 만들어진 코드를 재사용할 때\n",
    "- 객체(속성, 행동)\n",
    "- 클래스, 인스턴스로 나뉨\n",
    "- 실제 세상을 모델링(Inheritance, Polymorphism, Visibility)\n",
    "    - Inheritance : 부모 클래스를 상속받은 클래스 생성\n",
    "    - Polymorphism : 같은 이름을 가진 메소드의 내부 로직을 다르게 작성\n",
    "    - Visibility : 정보 접근 레벨 조정\n",
    "    - +Encapsulation : 정보 은닉, 클래스 간 정보 간섭 최소화"
   ]
  },
  {
   "cell_type": "markdown",
   "id": "4090a1db",
   "metadata": {},
   "source": [
    "### EX)수강신청 프로세스 짠다면?\n",
    "1. 수강신청 시작부터 끝까지\n",
    "2. 주체들의 행동, 데이터를 중심으로 프로그램 작성 후 연결"
   ]
  },
  {
   "cell_type": "markdown",
   "id": "5273209e",
   "metadata": {},
   "source": [
    "### EX)축구선수"
   ]
  },
  {
   "cell_type": "code",
   "execution_count": 2,
   "id": "d792d619",
   "metadata": {},
   "outputs": [],
   "source": [
    "class SoccerPlayer(object):\n",
    "    def __init__(self, name:str, position:str, back_number:int):\n",
    "        self.name = name\n",
    "        self.position = position\n",
    "        self.back_number = back_number\n",
    "    \n",
    "    def __str__(self):\n",
    "        return f\"Hello, my name is {self.name}. I play in {self.position} in center.\"\n",
    "    \n",
    "    def change_back_number(self, new_number:int):\n",
    "        print(f\"선수의 등번호를 변경합니다. from {self.back_number} to {new_number}\")\n",
    "        self.back_number = new_number"
   ]
  },
  {
   "cell_type": "code",
   "execution_count": 3,
   "id": "0e7ef792",
   "metadata": {},
   "outputs": [],
   "source": [
    "seokjin = SoccerPlayer('seokjin', 'striker', 9)"
   ]
  },
  {
   "cell_type": "code",
   "execution_count": 4,
   "id": "0d42540a",
   "metadata": {},
   "outputs": [
    {
     "ename": "TypeError",
     "evalue": "__init__() missing 2 required positional arguments: 'position' and 'back_number'",
     "output_type": "error",
     "traceback": [
      "\u001b[1;31m---------------------------------------------------------------------------\u001b[0m",
      "\u001b[1;31mTypeError\u001b[0m                                 Traceback (most recent call last)",
      "\u001b[1;32m<ipython-input-4-8d93e1077bc7>\u001b[0m in \u001b[0;36m<module>\u001b[1;34m\u001b[0m\n\u001b[0;32m      1\u001b[0m \u001b[1;31m# If there are some Missing Value.\u001b[0m\u001b[1;33m\u001b[0m\u001b[1;33m\u001b[0m\u001b[1;33m\u001b[0m\u001b[0m\n\u001b[1;32m----> 2\u001b[1;33m \u001b[0mb\u001b[0m \u001b[1;33m=\u001b[0m \u001b[0mSoccerPlayer\u001b[0m\u001b[1;33m(\u001b[0m\u001b[1;34m'son'\u001b[0m\u001b[1;33m)\u001b[0m\u001b[1;33m\u001b[0m\u001b[1;33m\u001b[0m\u001b[0m\n\u001b[0m",
      "\u001b[1;31mTypeError\u001b[0m: __init__() missing 2 required positional arguments: 'position' and 'back_number'"
     ]
    }
   ],
   "source": [
    "# If there are some Missing Value.\n",
    "b = SoccerPlayer('son')"
   ]
  },
  {
   "cell_type": "code",
   "execution_count": 5,
   "id": "36a76bdf",
   "metadata": {},
   "outputs": [
    {
     "name": "stdout",
     "output_type": "stream",
     "text": [
      "Hello, my name is seokjin. I play in striker in center.\n"
     ]
    }
   ],
   "source": [
    "print(seokjin)"
   ]
  },
  {
   "cell_type": "code",
   "execution_count": 6,
   "id": "fa2e67bf",
   "metadata": {},
   "outputs": [
    {
     "name": "stdout",
     "output_type": "stream",
     "text": [
      "선수의 등번호를 변경합니다. from 9 to 7\n"
     ]
    }
   ],
   "source": [
    "seokjin.change_back_number(7)"
   ]
  },
  {
   "cell_type": "markdown",
   "id": "0e924d48",
   "metadata": {},
   "source": [
    "### EX)노트 정리 프로그램"
   ]
  },
  {
   "cell_type": "code",
   "execution_count": 7,
   "id": "60cca103",
   "metadata": {},
   "outputs": [],
   "source": [
    "class Note:\n",
    "    def __init__(self, content = None):\n",
    "        self.content = content\n",
    "    \n",
    "    def write_content(self, content):\n",
    "        self.content = content\n",
    "        \n",
    "    def remove_all(self):\n",
    "        self.content = \"\"\n",
    "        \n",
    "    def __add__(self, other):\n",
    "        return self.content + other.content\n",
    "    \n",
    "    def __str__(self):\n",
    "        return self.content"
   ]
  },
  {
   "cell_type": "code",
   "execution_count": 8,
   "id": "5baf1ba8",
   "metadata": {},
   "outputs": [],
   "source": [
    "class NoteBook:\n",
    "    def __init__(self, title):\n",
    "        self.title = title\n",
    "        self.page_number = 1\n",
    "        self.notes = {}\n",
    "    \n",
    "    def add_note(self, note, page = 0):\n",
    "        if self.page_number < 300:\n",
    "            if page == 0:\n",
    "                self.notes[self.page_number] = note\n",
    "                self.page_number += 1\n",
    "            else:\n",
    "                self.notes = {page : note}\n",
    "                self.page_number += 1\n",
    "                \n",
    "        else:\n",
    "            print(\"page가 모두 채워졌습니다.\")\n",
    "            \n",
    "            \n",
    "    def remove_note(self, page_number):\n",
    "        if page_number in self.notes.keys():\n",
    "            return self.notes.pop(page_number)\n",
    "        else:\n",
    "            print(\"해당 페이지는 존재하지 않습니다.\")\n",
    "            \n",
    "    def get_number_of_pages(self):\n",
    "        return len(self.notes.keys())"
   ]
  },
  {
   "cell_type": "code",
   "execution_count": 9,
   "id": "abfcf31b",
   "metadata": {},
   "outputs": [],
   "source": [
    "my_notebook = NoteBook(\"seokjin's book\")"
   ]
  },
  {
   "cell_type": "code",
   "execution_count": 10,
   "id": "abfa1b82",
   "metadata": {},
   "outputs": [],
   "source": [
    "new_note = Note(\"Jupyter\")"
   ]
  },
  {
   "cell_type": "code",
   "execution_count": 11,
   "id": "421f29d0",
   "metadata": {},
   "outputs": [],
   "source": [
    "my_notebook.add_note(new_note)"
   ]
  },
  {
   "cell_type": "code",
   "execution_count": 12,
   "id": "a1297532",
   "metadata": {},
   "outputs": [
    {
     "data": {
      "text/plain": [
       "1"
      ]
     },
     "execution_count": 12,
     "metadata": {},
     "output_type": "execute_result"
    }
   ],
   "source": [
    "my_notebook.get_number_of_pages()"
   ]
  },
  {
   "cell_type": "code",
   "execution_count": 13,
   "id": "e53a230d",
   "metadata": {},
   "outputs": [
    {
     "name": "stdout",
     "output_type": "stream",
     "text": [
      "Jupyter\n"
     ]
    }
   ],
   "source": [
    "print(my_notebook.notes[1])"
   ]
  }
 ],
 "metadata": {
  "kernelspec": {
   "display_name": "Python 3",
   "language": "python",
   "name": "python3"
  },
  "language_info": {
   "codemirror_mode": {
    "name": "ipython",
    "version": 3
   },
   "file_extension": ".py",
   "mimetype": "text/x-python",
   "name": "python",
   "nbconvert_exporter": "python",
   "pygments_lexer": "ipython3",
   "version": "3.7.10"
  }
 },
 "nbformat": 4,
 "nbformat_minor": 5
}
