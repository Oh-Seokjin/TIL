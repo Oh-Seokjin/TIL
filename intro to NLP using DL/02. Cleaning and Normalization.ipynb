{
 "cells": [
  {
   "cell_type": "markdown",
   "id": "141c9098",
   "metadata": {},
   "source": [
    "# Cleaning and normalization\n",
    "- 노이즈 데이터를 제거하는 과정\n",
    "- 토큰화 전후로 진행됨\n",
    "- 같은 의미를 가지는 다른 표기의 단어들을 통합하는 과정"
   ]
  },
  {
   "cell_type": "markdown",
   "id": "46bf150c",
   "metadata": {},
   "source": [
    "### 대,소문자 통합\n",
    "- 구별해야 하는 경우도 있으므로 잘 판단해야 함"
   ]
  },
  {
   "cell_type": "markdown",
   "id": "8db25387",
   "metadata": {},
   "source": [
    "### 불필요한 단어 제거\n",
    "- Removing rare words : 분류에 도움이 되지 않음\n",
    "- Removing short words : a, the, an, i 등 의미를 가지지 않는 단어 제거"
   ]
  },
  {
   "cell_type": "code",
   "execution_count": 3,
   "id": "b36cf489",
   "metadata": {},
   "outputs": [
    {
     "name": "stdout",
     "output_type": "stream",
     "text": [
      "It revealed 10  protected forests had emitted more carbon than they locked away over the past 20 years.\n",
      " revealed  protected forests had emitted more carbon than they locked away over the past years.\n"
     ]
    }
   ],
   "source": [
    "import re\n",
    "text = \"It revealed 10  protected forests had emitted more carbon than they locked away over the past 20 years.\"\n",
    "\n",
    "shortword = re.compile(r'\\W*\\b\\w{1,2}\\b')\n",
    "print(text)\n",
    "print(shortword.sub('', text))"
   ]
  }
 ],
 "metadata": {
  "kernelspec": {
   "display_name": "Python 3",
   "language": "python",
   "name": "python3"
  },
  "language_info": {
   "codemirror_mode": {
    "name": "ipython",
    "version": 3
   },
   "file_extension": ".py",
   "mimetype": "text/x-python",
   "name": "python",
   "nbconvert_exporter": "python",
   "pygments_lexer": "ipython3",
   "version": "3.7.10"
  }
 },
 "nbformat": 4,
 "nbformat_minor": 5
}
