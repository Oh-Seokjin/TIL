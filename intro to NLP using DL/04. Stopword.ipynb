{
 "cells": [
  {
   "cell_type": "markdown",
   "id": "f7690b6e",
   "metadata": {},
   "source": [
    "# Stopword\n",
    "- 의미 없는 단어 토큰을 제거하는 과정"
   ]
  },
  {
   "cell_type": "code",
   "execution_count": 8,
   "id": "872d2522",
   "metadata": {},
   "outputs": [
    {
     "name": "stdout",
     "output_type": "stream",
     "text": [
      "['But', 'forests', 'face', 'a', 'raft', 'of', 'pressures', ',', 'including', 'illegal', 'logging', ',', 'the', 'expansion', 'of', 'farming', 'and', 'wildfires', '-', 'which', 'are', 'made', 'more', 'likely', 'by', 'climate', 'change', '.']\n",
      "['the', 'a', 'more', 'which', 'are', 'by', 'of', 'and']\n"
     ]
    }
   ],
   "source": [
    "from nltk.corpus import stopwords\n",
    "from nltk.tokenize import word_tokenize\n",
    "example = 'But forests face a raft of pressures, including illegal logging, the expansion of farming and wildfires - which are made more likely by climate change.'\n",
    "stop_words = set(stopwords.words('english'))\n",
    "word_tokens = word_tokenize(example)\n",
    "\n",
    "result = []\n",
    "for w in word_tokens:\n",
    "    if w not in stop_words:\n",
    "        result.append(w)\n",
    "\n",
    "print(word_tokens)\n",
    "print([w for w in stop_words if w in word_tokens ])"
   ]
  }
 ],
 "metadata": {
  "kernelspec": {
   "display_name": "Python 3",
   "language": "python",
   "name": "python3"
  },
  "language_info": {
   "codemirror_mode": {
    "name": "ipython",
    "version": 3
   },
   "file_extension": ".py",
   "mimetype": "text/x-python",
   "name": "python",
   "nbconvert_exporter": "python",
   "pygments_lexer": "ipython3",
   "version": "3.7.10"
  }
 },
 "nbformat": 4,
 "nbformat_minor": 5
}
