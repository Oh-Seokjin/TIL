{
 "cells": [
  {
   "cell_type": "markdown",
   "id": "5ede032c",
   "metadata": {},
   "source": [
    "# Regular Expression"
   ]
  },
  {
   "cell_type": "code",
   "execution_count": 1,
   "id": "a2937d2a",
   "metadata": {},
   "outputs": [],
   "source": [
    "import re"
   ]
  },
  {
   "cell_type": "markdown",
   "id": "c2c71d1a",
   "metadata": {},
   "source": [
    "### ."
   ]
  },
  {
   "cell_type": "code",
   "execution_count": 2,
   "id": "d9276903",
   "metadata": {},
   "outputs": [],
   "source": [
    "r = re.compile(\"a.c\")\n",
    "r.search(\"kkk\")"
   ]
  },
  {
   "cell_type": "code",
   "execution_count": 6,
   "id": "e91e7542",
   "metadata": {},
   "outputs": [
    {
     "data": {
      "text/plain": [
       "<re.Match object; span=(0, 3), match='abc'>"
      ]
     },
     "execution_count": 6,
     "metadata": {},
     "output_type": "execute_result"
    }
   ],
   "source": [
    "r.search(\"abc\")"
   ]
  },
  {
   "cell_type": "markdown",
   "id": "fc12563e",
   "metadata": {},
   "source": [
    "### ?"
   ]
  },
  {
   "cell_type": "code",
   "execution_count": 9,
   "id": "fa1fe1ff",
   "metadata": {},
   "outputs": [
    {
     "data": {
      "text/plain": [
       "<re.Match object; span=(2, 3), match='c'>"
      ]
     },
     "execution_count": 9,
     "metadata": {},
     "output_type": "execute_result"
    }
   ],
   "source": [
    "r = re.compile(\"a?c\")\n",
    "r.search(\"abc\")"
   ]
  },
  {
   "cell_type": "code",
   "execution_count": 10,
   "id": "90187d8b",
   "metadata": {},
   "outputs": [
    {
     "data": {
      "text/plain": [
       "<re.Match object; span=(0, 2), match='ac'>"
      ]
     },
     "execution_count": 10,
     "metadata": {},
     "output_type": "execute_result"
    }
   ],
   "source": [
    "r.search(\"ac\")"
   ]
  },
  {
   "cell_type": "markdown",
   "id": "654803f9",
   "metadata": {},
   "source": [
    "### *"
   ]
  },
  {
   "cell_type": "code",
   "execution_count": 11,
   "id": "708687c3",
   "metadata": {},
   "outputs": [
    {
     "data": {
      "text/plain": [
       "<re.Match object; span=(0, 2), match='ac'>"
      ]
     },
     "execution_count": 11,
     "metadata": {},
     "output_type": "execute_result"
    }
   ],
   "source": [
    "r = re.compile(\"ab*c\")\n",
    "r.search(\"ac\")"
   ]
  },
  {
   "cell_type": "code",
   "execution_count": 12,
   "id": "5b9c1be4",
   "metadata": {},
   "outputs": [
    {
     "data": {
      "text/plain": [
       "<re.Match object; span=(0, 8), match='abbbbbbc'>"
      ]
     },
     "execution_count": 12,
     "metadata": {},
     "output_type": "execute_result"
    }
   ],
   "source": [
    "r.search(\"abbbbbbc\")"
   ]
  },
  {
   "cell_type": "markdown",
   "id": "3d7dc619",
   "metadata": {},
   "source": [
    "### +"
   ]
  },
  {
   "cell_type": "code",
   "execution_count": 13,
   "id": "d76b6f29",
   "metadata": {},
   "outputs": [],
   "source": [
    "r = re.compile(\"ab+c\")\n",
    "r.search(\"ac\")"
   ]
  },
  {
   "cell_type": "code",
   "execution_count": 14,
   "id": "aa040983",
   "metadata": {},
   "outputs": [
    {
     "data": {
      "text/plain": [
       "<re.Match object; span=(0, 8), match='abbbbbbc'>"
      ]
     },
     "execution_count": 14,
     "metadata": {},
     "output_type": "execute_result"
    }
   ],
   "source": [
    "r.search(\"abbbbbbc\")"
   ]
  },
  {
   "cell_type": "markdown",
   "id": "8e0e5423",
   "metadata": {},
   "source": [
    "### ^"
   ]
  },
  {
   "cell_type": "code",
   "execution_count": 16,
   "id": "be4005fe",
   "metadata": {},
   "outputs": [],
   "source": [
    "r = re.compile(\"^a\")\n",
    "r.search(\"bc\")"
   ]
  },
  {
   "cell_type": "code",
   "execution_count": 17,
   "id": "c031676d",
   "metadata": {},
   "outputs": [
    {
     "data": {
      "text/plain": [
       "<re.Match object; span=(0, 1), match='a'>"
      ]
     },
     "execution_count": 17,
     "metadata": {},
     "output_type": "execute_result"
    }
   ],
   "source": [
    "r.search(\"abc\")"
   ]
  },
  {
   "cell_type": "markdown",
   "id": "bc87dc9a",
   "metadata": {},
   "source": [
    "### {n}, {n, m}"
   ]
  },
  {
   "cell_type": "code",
   "execution_count": 19,
   "id": "1c27ba52",
   "metadata": {},
   "outputs": [],
   "source": [
    "r = re.compile(\"ab{2}c\")\n",
    "r.search(\"abc\")"
   ]
  },
  {
   "cell_type": "code",
   "execution_count": 20,
   "id": "a1b2c120",
   "metadata": {},
   "outputs": [
    {
     "data": {
      "text/plain": [
       "<re.Match object; span=(0, 4), match='abbc'>"
      ]
     },
     "execution_count": 20,
     "metadata": {},
     "output_type": "execute_result"
    }
   ],
   "source": [
    "r.search(\"abbc\")"
   ]
  },
  {
   "cell_type": "code",
   "execution_count": 28,
   "id": "e19e2ad7",
   "metadata": {},
   "outputs": [],
   "source": [
    "# r = re.compile(\"ab{2, 4}c\") 컴마 사이 space 허용 안됨\n",
    "r = re.compile(\"ab{2,4}c\")\n",
    "r.search(\"abc\")"
   ]
  },
  {
   "cell_type": "code",
   "execution_count": 29,
   "id": "c4346e91",
   "metadata": {},
   "outputs": [
    {
     "data": {
      "text/plain": [
       "<re.Match object; span=(0, 5), match='abbbc'>"
      ]
     },
     "execution_count": 29,
     "metadata": {},
     "output_type": "execute_result"
    }
   ],
   "source": [
    "r.search(\"abbbc\")"
   ]
  },
  {
   "cell_type": "markdown",
   "id": "57f2e346",
   "metadata": {},
   "source": [
    "### [ ], [^]"
   ]
  },
  {
   "cell_type": "code",
   "execution_count": 32,
   "id": "733dcd86",
   "metadata": {},
   "outputs": [],
   "source": [
    "r = re.compile(\"[abc]\")\n",
    "r.search(\"d\")"
   ]
  },
  {
   "cell_type": "code",
   "execution_count": 33,
   "id": "5e077406",
   "metadata": {},
   "outputs": [
    {
     "data": {
      "text/plain": [
       "<re.Match object; span=(0, 1), match='a'>"
      ]
     },
     "execution_count": 33,
     "metadata": {},
     "output_type": "execute_result"
    }
   ],
   "source": [
    "r.search(\"ab\")"
   ]
  },
  {
   "cell_type": "code",
   "execution_count": 36,
   "id": "c3cc458f",
   "metadata": {},
   "outputs": [
    {
     "data": {
      "text/plain": [
       "<re.Match object; span=(0, 1), match='d'>"
      ]
     },
     "execution_count": 36,
     "metadata": {},
     "output_type": "execute_result"
    }
   ],
   "source": [
    "r = re.compile(\"[^abc]\")\n",
    "r.search(\"d\")"
   ]
  },
  {
   "cell_type": "code",
   "execution_count": 37,
   "id": "1488de20",
   "metadata": {},
   "outputs": [],
   "source": [
    "r.search(\"ab\")"
   ]
  },
  {
   "cell_type": "markdown",
   "id": "c08c78ab",
   "metadata": {},
   "source": [
    "### re.match()와 re.search()"
   ]
  },
  {
   "cell_type": "code",
   "execution_count": 41,
   "id": "082ffae6",
   "metadata": {},
   "outputs": [],
   "source": [
    "r = re.compile(\"ab.\")"
   ]
  },
  {
   "cell_type": "code",
   "execution_count": 47,
   "id": "1f786aca",
   "metadata": {},
   "outputs": [
    {
     "data": {
      "text/plain": [
       "<re.Match object; span=(1, 4), match='eab'>"
      ]
     },
     "execution_count": 47,
     "metadata": {},
     "output_type": "execute_result"
    }
   ],
   "source": [
    "r.search(\"deabc\")\n",
    "# 문자열 안에 포함되기만 하면 OK"
   ]
  },
  {
   "cell_type": "code",
   "execution_count": 48,
   "id": "bae7a419",
   "metadata": {},
   "outputs": [],
   "source": [
    "r.match(\"deabc\")\n",
    "# 해당 문자열로 시작해야 함"
   ]
  },
  {
   "cell_type": "markdown",
   "id": "e9409e2a",
   "metadata": {},
   "source": [
    "### re.split()"
   ]
  },
  {
   "cell_type": "code",
   "execution_count": 49,
   "id": "c280613d",
   "metadata": {},
   "outputs": [
    {
     "data": {
      "text/plain": [
       "['자동차', '기차', '비행기', '오토바이']"
      ]
     },
     "execution_count": 49,
     "metadata": {},
     "output_type": "execute_result"
    }
   ],
   "source": [
    "text = \"자동차 기차 비행기 오토바이\"\n",
    "re.split(\" \", text)"
   ]
  },
  {
   "cell_type": "markdown",
   "id": "f576d669",
   "metadata": {},
   "source": [
    "### 정규표현식을 이용한 토큰화"
   ]
  },
  {
   "cell_type": "code",
   "execution_count": 52,
   "id": "4906367e",
   "metadata": {},
   "outputs": [
    {
     "name": "stdout",
     "output_type": "stream",
     "text": [
      "['Ten', 'of', 'the', 'world', 's', 'most', 'protected', 'forests', 'have', 'become', 'net', 'emitters', 'of', 'carbon', 'as', 'they', 'are', 'degraded', 'by', 'human', 'activity', 'and', 'climate', 'change']\n"
     ]
    }
   ],
   "source": [
    "from nltk.tokenize import RegexpTokenizer\n",
    "tokenizer = RegexpTokenizer(\"[\\w]+\")\n",
    "# 단어를 가지고 분리\n",
    "print(tokenizer.tokenize(\"Ten of the world's most protected forests have become net emitters of carbon, as they are degraded by human activity and climate change.\"))"
   ]
  },
  {
   "cell_type": "code",
   "execution_count": 55,
   "id": "d96f5f92",
   "metadata": {},
   "outputs": [
    {
     "name": "stdout",
     "output_type": "stream",
     "text": [
      "['Ten', 'of', 'the', \"world's\", 'most', 'protected', 'forests', 'have', 'become', 'net', 'emitters', 'of', 'carbon,', 'as', 'they', 'are', 'degraded', 'by', 'human', 'activity', 'and', 'climate', 'change.']\n"
     ]
    }
   ],
   "source": [
    "tokenizer = RegexpTokenizer(\"\\s+\", gaps = True)\n",
    "# 공백 기준으로 분리\n",
    "print(tokenizer.tokenize(\"Ten of the world's most protected forests have become net emitters of carbon, as they are degraded by human activity and climate change.\"))"
   ]
  }
 ],
 "metadata": {
  "kernelspec": {
   "display_name": "Python 3",
   "language": "python",
   "name": "python3"
  },
  "language_info": {
   "codemirror_mode": {
    "name": "ipython",
    "version": 3
   },
   "file_extension": ".py",
   "mimetype": "text/x-python",
   "name": "python",
   "nbconvert_exporter": "python",
   "pygments_lexer": "ipython3",
   "version": "3.7.10"
  }
 },
 "nbformat": 4,
 "nbformat_minor": 5
}
